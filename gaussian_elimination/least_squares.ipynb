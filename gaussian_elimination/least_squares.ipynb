{
 "cells": [
  {
   "cell_type": "markdown",
   "metadata": {},
   "source": [
    "Linear Algebra Bibliography:\n",
    "* https://opencourses.auth.gr/modules/units/?course=OCRS111&id=1289\n",
    "* http://ebooks.edu.gr/ebooks/v/html/8547/2732/Mathimatika-G-Lykeiou-ThSp_html-apli/indexA1_6.html\n",
    "* http://ecourse.uoi.gr/course/view.php?id=1225&lang=en\n",
    "* http://ecourses.dbnet.ntua.gr/14011.html\n"
   ]
  },
  {
   "cell_type": "markdown",
   "metadata": {},
   "source": [
    "\\begin{array}{lcl} z & = & a \\\\ f(x,y,z) & = & x + 3y + z \\end{array}"
   ]
  },
  {
   "cell_type": "markdown",
   "metadata": {},
   "source": [
    "\\begin{array}{rr} 2x + 3y + 8z & = & 5 \\\\ 2x - 7y + 3z & = & 6 \\\\ 4x + 3y + 21z & = & 32 \\\\ 5x + 6y - 9z & = & 5 \\end{array}"
   ]
  },
  {
   "cell_type": "markdown",
   "metadata": {},
   "source": [
    "\\begin{array}{rrrr} 2*x & + & 3*y & + & 8*z & = & 5 \\\\ 2*x & - & 7*y & + & 3*z & = & 6 \\\\ 4*x & + & 3*y & + & 21*z & = & 32 \\\\ 5*x & + & 6*y & - & 9*z & = & 5 \\end{array}"
   ]
  },
  {
   "cell_type": "markdown",
   "metadata": {},
   "source": [
    "## System of equations\n",
    "\n",
    "\\begin{array}{rrrr} 2x & + & 3y & + & 8z & = & 5 \\\\ 2x & - & 7y & + & 3z & = & 6 \\\\ 4x & + & 3y & + & 21z & = & 32 \\\\ 5x & + & 6y & - & 9z & = & 5 \\end{array}"
   ]
  },
  {
   "cell_type": "code",
   "execution_count": 223,
   "metadata": {},
   "outputs": [],
   "source": [
    "import numpy as np\n",
    "\n",
    "\n",
    "A = [[2,3,8,5], [2, -7 , 3, 6], [4, 3, 21, 32], [5, 6, -9, 5]]\n",
    "A = np.array(A, dtype=np.float32)\n",
    "A_orig = A.copy()"
   ]
  },
  {
   "cell_type": "code",
   "execution_count": 224,
   "metadata": {},
   "outputs": [
    {
     "data": {
      "text/plain": [
       "array([[  1. ,   1.5,   4. ,   2.5],\n",
       "       [  0. , -10. ,  -5. ,   1. ],\n",
       "       [  0. ,  -3. ,   5. ,  22. ],\n",
       "       [  0. ,  -1.5, -29. ,  -7.5]], dtype=float32)"
      ]
     },
     "execution_count": 224,
     "metadata": {},
     "output_type": "execute_result"
    }
   ],
   "source": [
    "A[0, :] /= A[0, 0]\n",
    "for i in range(1,4):\n",
    "    A[i, :] -= A[0, :] * A[i, 0]\n",
    "A"
   ]
  },
  {
   "cell_type": "code",
   "execution_count": 225,
   "metadata": {},
   "outputs": [
    {
     "data": {
      "text/plain": [
       "array([[  1.  ,   1.5 ,   4.  ,   2.5 ],\n",
       "       [ -0.  ,   1.  ,   0.5 ,  -0.1 ],\n",
       "       [  0.  ,   0.  ,   6.5 ,  21.7 ],\n",
       "       [  0.  ,   0.  , -28.25,  -7.65]], dtype=float32)"
      ]
     },
     "execution_count": 225,
     "metadata": {},
     "output_type": "execute_result"
    }
   ],
   "source": [
    "A[1, :] = A[1, :]/A[1, 1]\n",
    "for i in range(2,4):\n",
    "    A[i, :] -= A[1, :] * A[i, 1]\n",
    "A"
   ]
  },
  {
   "cell_type": "code",
   "execution_count": 197,
   "metadata": {},
   "outputs": [
    {
     "data": {
      "text/plain": [
       "array([[ 1.       ,  1.5      ,  4.       ,  2.5      ],\n",
       "       [-0.       ,  1.       ,  0.5      , -0.1      ],\n",
       "       [ 0.       ,  0.       ,  1.       ,  3.3384616],\n",
       "       [ 0.       ,  0.       ,  0.       , 86.66154  ]], dtype=float32)"
      ]
     },
     "execution_count": 197,
     "metadata": {},
     "output_type": "execute_result"
    }
   ],
   "source": [
    "A[2, :] = A[2, :]/A[2, 2]\n",
    "for i in range(3,4):\n",
    "    A[i, :] -= A[2, :] * A[i, 2]\n",
    "A"
   ]
  },
  {
   "cell_type": "code",
   "execution_count": null,
   "metadata": {},
   "outputs": [],
   "source": [
    "array([[ 1.       ,  1.5      ,  4.       ,  2.5      ],\n",
    "       [-0.       ,  1.       ,  0.5      , -0.1      ],\n",
    "       [ 0.       ,  0.       ,  1.       ,  3.3384616"
   ]
  },
  {
   "cell_type": "code",
   "execution_count": 198,
   "metadata": {},
   "outputs": [
    {
     "data": {
      "text/plain": [
       "array([[  1.       ,   1.5      ,   0.       , -10.853847 ],\n",
       "       [ -0.       ,   1.       ,   0.       ,  -1.7692308],\n",
       "       [  0.       ,   0.       ,   1.       ,   3.3384616],\n",
       "       [  0.       ,   0.       ,   0.       ,  86.66154  ]],\n",
       "      dtype=float32)"
      ]
     },
     "execution_count": 198,
     "metadata": {},
     "output_type": "execute_result"
    }
   ],
   "source": [
    "for i in range(1,-1,-1):\n",
    "    A[i, :] -= A[2, :] * A[i, 2]\n",
    "A"
   ]
  },
  {
   "cell_type": "code",
   "execution_count": 226,
   "metadata": {},
   "outputs": [
    {
     "data": {
      "text/plain": [
       "array([[  1.  ,   0.  ,   3.25,   2.65],\n",
       "       [ -0.  ,   1.  ,   0.5 ,  -0.1 ],\n",
       "       [  0.  ,   0.  ,   6.5 ,  21.7 ],\n",
       "       [  0.  ,   0.  , -28.25,  -7.65]], dtype=float32)"
      ]
     },
     "execution_count": 226,
     "metadata": {},
     "output_type": "execute_result"
    }
   ],
   "source": [
    "for i in range(0,-1,-1):\n",
    "    A[i, :] -= A[1, :] * A[i, 1]\n",
    "A"
   ]
  },
  {
   "cell_type": "code",
   "execution_count": 206,
   "metadata": {},
   "outputs": [
    {
     "data": {
      "text/plain": [
       "array([ 4.999998,  5.999999, 32.      ], dtype=float32)"
      ]
     },
     "execution_count": 206,
     "metadata": {},
     "output_type": "execute_result"
    }
   ],
   "source": [
    "A_orig[:3,:3]@A[:3, 3]"
   ]
  },
  {
   "cell_type": "code",
   "execution_count": 130,
   "metadata": {},
   "outputs": [
    {
     "data": {
      "text/plain": [
       "array([[ 2.,  3.,  8.,  5.],\n",
       "       [ 2., -7.,  3.,  6.],\n",
       "       [ 4.,  3., 21., 32.],\n",
       "       [ 5.,  6., -9.,  5.]], dtype=float32)"
      ]
     },
     "execution_count": 130,
     "metadata": {},
     "output_type": "execute_result"
    }
   ],
   "source": [
    "A_orig\n"
   ]
  },
  {
   "cell_type": "code",
   "execution_count": 176,
   "metadata": {},
   "outputs": [],
   "source": [
    "import pdb"
   ]
  },
  {
   "cell_type": "code",
   "execution_count": 244,
   "metadata": {},
   "outputs": [],
   "source": [
    "def swap_rows(A, k, l):\n",
    "    A[[k,l], :] = A[[l, k], :]\n",
    "\n",
    "\n",
    "def solve_with_gaussian_elimination(A, contains_b=True):\n",
    "    \"\"\"\n",
    "    Based on pseudocode from wikipedia.\n",
    "    :param contains_b: if True then the last column of A is vector b from the system of equations Ax = b\n",
    "    \"\"\"\n",
    "    assert A.ndim == 2\n",
    "    \n",
    "    A = A.copy() \n",
    "    \n",
    "    m, n =  A.shape[:2]\n",
    "    r = 0 # /* Initialization of the pivot row */\n",
    "    c = 0 # /* Initialization of the pivot column */\n",
    "    \n",
    "    pivot_locations = [] ## store the locations of all pivot elements\n",
    "    \n",
    "    n_limit = n if not contains_b else n-1   ## if the last column is b then don't go there!\n",
    "    \n",
    "    while (r < m and c < n_limit): \n",
    "        # /* Find the k-th pivot: */\n",
    "        r_max = np.argmax(A[r:, c]) + r\n",
    "#         pdb.set_trace()\n",
    "        if A[r_max, c] == 0:\n",
    "            #/* No pivot in this column, pass to next column */\n",
    "            c += 1 \n",
    "        else:\n",
    "#             swap_rows(A, r, r_max)\n",
    "            # /* Do for all rows below pivot: */\n",
    "            \n",
    "            A[r, :] /= A[r, c]  ## make first element equal to one\n",
    "            pivot_locations.append([r,c])\n",
    "            \n",
    "            f = A[r+1:, c:c+1] # / A[h, c]\n",
    "            \n",
    "            A[r+1:, :] = A[r+1:, :]  - f * A[r:r+1, :] \n",
    "            \n",
    "            # /* Fill with zeros the lower part of pivot column: */\n",
    "            A[r+1:, c] = 0 \n",
    "            \n",
    "            # /* Increase pivot row and column */\n",
    "            r += 1 \n",
    "            c += 1\n",
    "    \n",
    "    ## go backwards\n",
    "    for pivot_loc in pivot_locations[:0:-1]:  ## we don't need the first row\n",
    "        r, c = pivot_loc\n",
    "        f = A[:r, c:c+1]\n",
    "#         print(r,c)\n",
    "#         pdb.set_trace()\n",
    "        A[:r, c:] = A[:r, c:] - f * A[r:r+1, c:]  \n",
    "        # /* Fill with zeros the upper part of pivot column: */\n",
    "        A[:r, c] = 0 \n",
    "        \n",
    "    return A\n"
   ]
  },
  {
   "cell_type": "code",
   "execution_count": 245,
   "metadata": {},
   "outputs": [
    {
     "data": {
      "text/plain": [
       "array([[ 1.,  2., -1.,  0.,  0.,  3.],\n",
       "       [ 0.,  0.,  0.,  1.,  0., -1.],\n",
       "       [-0., -0., -0., -0.,  1.,  2.]], dtype=float32)"
      ]
     },
     "execution_count": 245,
     "metadata": {},
     "output_type": "execute_result"
    }
   ],
   "source": [
    "B_orig = np.array([[1, 2, -1, 5, 6, 10],\n",
    "                   [-1, -2, 1, -3, -2, -4],\n",
    "                   [2, 4, -2, 6, 3, 6]], dtype=np.float32)\n",
    "solve_with_gaussian_elimination(B_orig)"
   ]
  },
  {
   "cell_type": "code",
   "execution_count": 246,
   "metadata": {},
   "outputs": [
    {
     "data": {
      "text/plain": [
       "array([[ 1., -1.,  0.,  0.,  0.,  1.],\n",
       "       [-0., -0.,  1., -1.,  0., -1.],\n",
       "       [-0., -0., -0., -0.,  1.,  1.]], dtype=float32)"
      ]
     },
     "execution_count": 246,
     "metadata": {},
     "output_type": "execute_result"
    }
   ],
   "source": [
    "C_orig = np.array([[1, -1, 2, -2, 3, 2],\n",
    "                   [3, -3, -1, 1, 1, 5],\n",
    "                   [-2, 2, 3, -3, 1, -4]], dtype=np.float32)\n",
    "solve_with_gaussian_elimination(C_orig)"
   ]
  },
  {
   "cell_type": "code",
   "execution_count": 232,
   "metadata": {},
   "outputs": [
    {
     "data": {
      "text/plain": [
       "array([[ 1.       ,  0.       ,  0.       , -8.200001 ],\n",
       "       [-0.       ,  1.       ,  0.       , -1.7692308],\n",
       "       [ 0.       ,  0.       ,  1.       ,  3.3384616]], dtype=float32)"
      ]
     },
     "execution_count": 232,
     "metadata": {},
     "output_type": "execute_result"
    }
   ],
   "source": [
    "solve_with_gaussian_elimination(A_orig[:3, :], contains_b=True)"
   ]
  },
  {
   "cell_type": "markdown",
   "metadata": {},
   "source": [
    "## Solving the system using Gaussian elimination: \n",
    "\n",
    "**with 2 equations for 3 unkowns:**\n",
    "\\begin{array}{rrrr} 2x & + & 3y & + & 8z & = & 5 \\\\ 2x & - & 7y & + & 3z & = & 6 \\end{array}\n",
    "returns: "
   ]
  },
  {
   "cell_type": "code",
   "execution_count": 233,
   "metadata": {},
   "outputs": [
    {
     "data": {
      "text/plain": [
       "array([[ 1.  ,  0.  ,  3.25,  2.65],\n",
       "       [-0.  ,  1.  ,  0.5 , -0.1 ]], dtype=float32)"
      ]
     },
     "execution_count": 233,
     "metadata": {},
     "output_type": "execute_result"
    }
   ],
   "source": [
    "solve_with_gaussian_elimination(A_orig[:2, :], contains_b=True)"
   ]
  },
  {
   "cell_type": "markdown",
   "metadata": {},
   "source": [
    "which has as a solution the line:\n",
    "\\begin{array}{rrrr} x & = & 2.65 - 3t \\\\ y & = & -0.1 - 0.5t  \\\\ z & = & t \\end{array}\n",
    "where $t \\in \\mathbb{R}$"
   ]
  },
  {
   "cell_type": "markdown",
   "metadata": {},
   "source": [
    "**with 3 equations for 3 unkowns:**: \n",
    "\\begin{array}{rrrr} 2x & + & 3y & + & 8z & = & 5 \\\\ 2x & - & 7y & + & 3z & = & 6 \\\\ 4x & + & 3y & + & 21z & = & 32 \\end{array}\n",
    "returns: "
   ]
  },
  {
   "cell_type": "code",
   "execution_count": 234,
   "metadata": {},
   "outputs": [
    {
     "data": {
      "text/plain": [
       "array([[ 1.       ,  0.       ,  0.       , -8.200001 ],\n",
       "       [-0.       ,  1.       ,  0.       , -1.7692308],\n",
       "       [ 0.       ,  0.       ,  1.       ,  3.3384616]], dtype=float32)"
      ]
     },
     "execution_count": 234,
     "metadata": {},
     "output_type": "execute_result"
    }
   ],
   "source": [
    "solve_with_gaussian_elimination(A_orig[:3, :], contains_b=True)"
   ]
  },
  {
   "cell_type": "markdown",
   "metadata": {},
   "source": [
    "which is a unique solution (x, y, z) = (-8.2, -1.77, 3.34)"
   ]
  },
  {
   "cell_type": "markdown",
   "metadata": {},
   "source": [
    "3. with 4 equations for 3 unkowns: \\begin{array}{rrrr} 2x & + & 3y & + & 8z & = & 5 \\\\ 2x & - & 7y & + & 3z & = & 6 \\\\ 4x & + & 3y & + & 21z & = & 32 \\\\ 5x & + & 6y & - & 9z & = & 5 \\end{array}\n",
    "   returns: "
   ]
  },
  {
   "cell_type": "code",
   "execution_count": 235,
   "metadata": {},
   "outputs": [
    {
     "data": {
      "text/plain": [
       "array([[ 1.       ,  0.       ,  0.       , -8.200001 ],\n",
       "       [-0.       ,  1.       ,  0.       , -1.7692308],\n",
       "       [ 0.       ,  0.       ,  1.       ,  3.3384616],\n",
       "       [ 0.       ,  0.       ,  0.       , 86.66154  ]], dtype=float32)"
      ]
     },
     "execution_count": 235,
     "metadata": {},
     "output_type": "execute_result"
    }
   ],
   "source": [
    "solve_with_gaussian_elimination(A_orig[:4, :], contains_b=True)"
   ]
  },
  {
   "cell_type": "code",
   "execution_count": null,
   "metadata": {},
   "outputs": [],
   "source": []
  },
  {
   "cell_type": "markdown",
   "metadata": {},
   "source": [
    "## Using normal equation"
   ]
  },
  {
   "cell_type": "code",
   "execution_count": 107,
   "metadata": {},
   "outputs": [
    {
     "data": {
      "text/plain": [
       "(array([[ 2.,  3.,  8.],\n",
       "        [ 2., -7.,  3.],\n",
       "        [ 4.,  3., 21.],\n",
       "        [ 5.,  6., -9.]], dtype=float32), array([[ 5.],\n",
       "        [ 6.],\n",
       "        [32.],\n",
       "        [ 5.]], dtype=float32))"
      ]
     },
     "execution_count": 107,
     "metadata": {},
     "output_type": "execute_result"
    }
   ],
   "source": [
    "A_orig\n",
    "A, b = A_orig[:, :3], A_orig[:, 3:]\n",
    "A, b"
   ]
  },
  {
   "cell_type": "code",
   "execution_count": 117,
   "metadata": {},
   "outputs": [],
   "source": [
    "def solve(A, b):\n",
    "    print(A, b)\n",
    "    pseudo_inv = np.linalg.pinv(A)\n",
    "    return pseudo_inv @ b"
   ]
  },
  {
   "cell_type": "code",
   "execution_count": 111,
   "metadata": {},
   "outputs": [
    {
     "data": {
      "text/plain": [
       "array([[2.403015  ],\n",
       "       [0.06265867],\n",
       "       [0.90363723]], dtype=float32)"
      ]
     },
     "execution_count": 111,
     "metadata": {},
     "output_type": "execute_result"
    }
   ],
   "source": [
    "solve(A, b)"
   ]
  },
  {
   "cell_type": "code",
   "execution_count": null,
   "metadata": {},
   "outputs": [],
   "source": [
    "np.linalg.inv(A[:3, :])"
   ]
  },
  {
   "cell_type": "code",
   "execution_count": 118,
   "metadata": {},
   "outputs": [
    {
     "name": "stdout",
     "output_type": "stream",
     "text": [
      "[[ 2.  3.  8.]\n",
      " [ 2. -7.  3.]\n",
      " [ 4.  3. 21.]] [[ 5.]\n",
      " [ 6.]\n",
      " [32.]]\n"
     ]
    },
    {
     "data": {
      "text/plain": [
       "array([[-8.200002 ],\n",
       "       [-1.7692308],\n",
       "       [ 3.3384616]], dtype=float32)"
      ]
     },
     "execution_count": 118,
     "metadata": {},
     "output_type": "execute_result"
    }
   ],
   "source": [
    "solve(A[:3, :], b[:3, :])"
   ]
  },
  {
   "cell_type": "markdown",
   "metadata": {},
   "source": [
    "### With an undertermined system (only 2 equations for 3 dimensions) \n",
    "we get a point on the line in 3D spac that has all possible solutions x,y,z"
   ]
  },
  {
   "cell_type": "code",
   "execution_count": 114,
   "metadata": {},
   "outputs": [
    {
     "data": {
      "text/plain": [
       "array([[ 0.2941799 ],\n",
       "       [-0.46243384],\n",
       "       [ 0.7248677 ]], dtype=float32)"
      ]
     },
     "execution_count": 114,
     "metadata": {},
     "output_type": "execute_result"
    }
   ],
   "source": [
    "solve(A[:2, :], b[:2, :])"
   ]
  },
  {
   "cell_type": "code",
   "execution_count": 115,
   "metadata": {},
   "outputs": [
    {
     "data": {
      "text/plain": [
       "(0.29417997500000004, -0.46243385000000004, 0.7248677)"
      ]
     },
     "execution_count": 115,
     "metadata": {},
     "output_type": "execute_result"
    }
   ],
   "source": [
    "t = 0.7248677\n",
    "x = 2.65 - 3.25*t\n",
    "y = -0.1 -0.5*t\n",
    "z = t \n",
    "x, y ,z"
   ]
  }
 ],
 "metadata": {
  "kernelspec": {
   "display_name": "Python 3",
   "language": "python",
   "name": "python3"
  },
  "language_info": {
   "codemirror_mode": {
    "name": "ipython",
    "version": 3
   },
   "file_extension": ".py",
   "mimetype": "text/x-python",
   "name": "python",
   "nbconvert_exporter": "python",
   "pygments_lexer": "ipython3",
   "version": "3.7.3"
  }
 },
 "nbformat": 4,
 "nbformat_minor": 2
}
